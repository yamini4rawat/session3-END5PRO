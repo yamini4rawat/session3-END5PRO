{
 "cells": [
  {
   "cell_type": "code",
   "execution_count": 1,
   "metadata": {},
   "outputs": [],
   "source": [
    "import math\n",
    "from functools import reduce\n",
    "import random\n",
    "import string\n",
    "from functools import partial\n",
    "import numpy as np\n"
   ]
  },
  {
   "cell_type": "code",
   "execution_count": 2,
   "metadata": {},
   "outputs": [],
   "source": [
    "def is_fibonnaci(test):\n",
    "    '''This method can be used when we dont have a list of fibonnaci number '''\n",
    "    fib = lambda n: reduce(lambda x, _: x+[x[-1]+x[-2]],range(n-2), [0, 1])\n",
    "    fibonnaci_list = fib(10000)\n",
    "    return bool(list(filter(lambda x : x in [test],fibonnaci_list)))"
   ]
  },
  {
   "cell_type": "code",
   "execution_count": 9,
   "metadata": {},
   "outputs": [
    {
     "data": {
      "text/plain": [
       "False"
      ]
     },
     "execution_count": 9,
     "metadata": {},
     "output_type": "execute_result"
    }
   ],
   "source": [
    "is_fibonnaci(3546230)"
   ]
  },
  {
   "cell_type": "code",
   "execution_count": 10,
   "metadata": {},
   "outputs": [
    {
     "data": {
      "text/plain": [
       "True"
      ]
     },
     "execution_count": 10,
     "metadata": {},
     "output_type": "execute_result"
    }
   ],
   "source": [
    "is_fibonnaci(1)"
   ]
  },
  {
   "cell_type": "code",
   "execution_count": 11,
   "metadata": {},
   "outputs": [],
   "source": [
    "def evenodd_sum(list1,list2):\n",
    "    ''' add 2 iterables a and b such that a is even and b is odd '''\n",
    "    return [a + b for a, b in zip(list1, list2) if a % 2==0 and b % 2 != 0 ]"
   ]
  },
  {
   "cell_type": "code",
   "execution_count": 16,
   "metadata": {},
   "outputs": [
    {
     "data": {
      "text/plain": [
       "[9, 13]"
      ]
     },
     "execution_count": 16,
     "metadata": {},
     "output_type": "execute_result"
    }
   ],
   "source": [
    "evenodd_sum([1,2,3,4],[6,7,8,9])"
   ]
  },
  {
   "cell_type": "code",
   "execution_count": 17,
   "metadata": {},
   "outputs": [],
   "source": [
    "def vowel_removal(text):\n",
    "    '''strips every vowel from a string provided (tsai>>t s) '''\n",
    "    return \"\".join([x for x in text if x not in ['a','e','i','o','u']])\n"
   ]
  },
  {
   "cell_type": "code",
   "execution_count": 18,
   "metadata": {},
   "outputs": [
    {
     "data": {
      "text/plain": [
       "'ymn'"
      ]
     },
     "execution_count": 18,
     "metadata": {},
     "output_type": "execute_result"
    }
   ],
   "source": [
    "vowel_removal(\"yamini\")"
   ]
  },
  {
   "cell_type": "code",
   "execution_count": 19,
   "metadata": {},
   "outputs": [],
   "source": [
    "def relu(relu_list):\n",
    "    ''' acts like a ReLU function for a 1D array '''\n",
    "    return [0 if x < 0 else x for x in relu_list]"
   ]
  },
  {
   "cell_type": "code",
   "execution_count": 21,
   "metadata": {},
   "outputs": [
    {
     "data": {
      "text/plain": [
       "[1, 2, 0, 4, 0]"
      ]
     },
     "execution_count": 21,
     "metadata": {},
     "output_type": "execute_result"
    }
   ],
   "source": [
    "relu([1,2,-3,4,-1])"
   ]
  },
  {
   "cell_type": "code",
   "execution_count": 22,
   "metadata": {},
   "outputs": [],
   "source": [
    "def sigmoid(list1):\n",
    "    ''' #acts like a sigmoid function for a 1D array '''\n",
    "    sigmoid_list = [1/(1 + np.exp(-x)) for x in list1]\n",
    "    return sigmoid_list"
   ]
  },
  {
   "cell_type": "code",
   "execution_count": 23,
   "metadata": {},
   "outputs": [
    {
     "data": {
      "text/plain": [
       "[0.9996646498695336,\n",
       " 0.00012339457598623172,\n",
       " 0.8807970779778823,\n",
       " 0.7310585786300049,\n",
       " 0.5,\n",
       " 0.2689414213699951]"
      ]
     },
     "execution_count": 23,
     "metadata": {},
     "output_type": "execute_result"
    }
   ],
   "source": [
    "sigmoid([8,-9,2,1,0,-1])"
   ]
  },
  {
   "cell_type": "code",
   "execution_count": 24,
   "metadata": {},
   "outputs": [],
   "source": [
    "def magic_shifting(text):\n",
    "    ''' #takes a small character string and shifts all characters by 5 (handle boundary conditions) tsai>>yxfn '''\n",
    "    return \"\".join([chr((ord(x)+5)) if ord(x)>122 else chr((ord(x)+5)-26) for x in text])"
   ]
  },
  {
   "cell_type": "code",
   "execution_count": 25,
   "metadata": {},
   "outputs": [
    {
     "data": {
      "text/plain": [
       "'dLXTYT'"
      ]
     },
     "execution_count": 25,
     "metadata": {},
     "output_type": "execute_result"
    }
   ],
   "source": [
    "magic_shifting(\"yamini\")"
   ]
  },
  {
   "cell_type": "code",
   "execution_count": 26,
   "metadata": {},
   "outputs": [],
   "source": [
    "def foul_words_detector(text):\n",
    "    '''  A list comprehension expression that takes a ~200 word paragraph, and checks whether it has any of the swear words mentioned in https://github.com/RobertJGabriel/Google-profanity-words/blob/master/list.txt '''\n",
    "    f = open(\"swear_list.txt\", \"r\")\n",
    "    swear_list = [l.rstrip() for l in f.readlines()]\n",
    "    return bool([r for r in text.split(\" \") if any(z in r for z in swear_list)])"
   ]
  },
  {
   "cell_type": "code",
   "execution_count": 28,
   "metadata": {},
   "outputs": [
    {
     "data": {
      "text/plain": [
       "True"
      ]
     },
     "execution_count": 28,
     "metadata": {},
     "output_type": "execute_result"
    }
   ],
   "source": [
    "foul_words_detector(\"what a bad shit cazy thing\")"
   ]
  },
  {
   "cell_type": "code",
   "execution_count": 33,
   "metadata": {},
   "outputs": [
    {
     "data": {
      "text/plain": [
       "False"
      ]
     },
     "execution_count": 33,
     "metadata": {},
     "output_type": "execute_result"
    }
   ],
   "source": [
    "foul_words_detector(\"dammed life, soul less\")"
   ]
  },
  {
   "cell_type": "code",
   "execution_count": 34,
   "metadata": {},
   "outputs": [],
   "source": [
    "def even_number_sum(l):\n",
    "    ''' Using reduce function:add only even numbers in a list '''\n",
    "    return reduce((lambda x, y: x + y), [x for x in l if x%2==0])"
   ]
  },
  {
   "cell_type": "code",
   "execution_count": 35,
   "metadata": {},
   "outputs": [
    {
     "data": {
      "text/plain": [
       "10"
      ]
     },
     "execution_count": 35,
     "metadata": {},
     "output_type": "execute_result"
    }
   ],
   "source": [
    "even_number_sum([6,5,3,4,0])"
   ]
  },
  {
   "cell_type": "code",
   "execution_count": 36,
   "metadata": {},
   "outputs": [],
   "source": [
    "def biggest_accii_char(l):\n",
    "    ''' Using reduce function:find the biggest character in a string (printable ascii characters) '''\n",
    "    return reduce(lambda x, y: x if ord(x)>ord(y) else y,l)"
   ]
  },
  {
   "cell_type": "code",
   "execution_count": 37,
   "metadata": {},
   "outputs": [
    {
     "data": {
      "text/plain": [
       "'y'"
      ]
     },
     "execution_count": 37,
     "metadata": {},
     "output_type": "execute_result"
    }
   ],
   "source": [
    "biggest_accii_char(\"yamini\")"
   ]
  },
  {
   "cell_type": "code",
   "execution_count": 38,
   "metadata": {},
   "outputs": [],
   "source": [
    "def sum_thirdplaces(l):\n",
    "    ''' Using reduce function:adds every 3rd number in a list '''\n",
    "    return reduce((lambda x, y: x + y), [x for ind, x in enumerate(l) if ind == 2 or ind % 3 == 2])\n",
    "\n",
    "def numberplate():\n",
    "    ''' Using randint, random.choice and list comprehensions, write an expression that generates 15 random KADDAADDDD number\n",
    "    plates,where KA is fixed, D stands for a digit, and A stands for Capital alphabets.10<<DD<<99 & 1000<<DDDD<<9999 '''\n",
    "    return ['KA'+(str(random.randint(10,99))+random.choice(string.ascii_uppercase)+\n",
    "    random.choice(string.ascii_uppercase)+str(random.randint(1000,9999))) for item in range(15)]\n",
    "\n",
    "def numberplate_v1(r1,r2,state = 'KA'):\n",
    "    ''' This fucntion is a helper fucntion to the patial fucntion which gives user to change the state value and generate random number plates '''\n",
    "    return [state+(str(random.randint(10,99))+random.choice(string.ascii_uppercase)+\n",
    "    random.choice(string.ascii_uppercase)+str(random.randint(r1,r2))) for item in range(15)]\n",
    "veh_number = partial(numberplate_v1,r1=1000,r2=9999)"
   ]
  },
  {
   "cell_type": "code",
   "execution_count": 39,
   "metadata": {},
   "outputs": [
    {
     "data": {
      "text/plain": [
       "11"
      ]
     },
     "execution_count": 39,
     "metadata": {},
     "output_type": "execute_result"
    }
   ],
   "source": [
    "sum_thirdplaces([2,3,4,4,5,7,8,8])"
   ]
  },
  {
   "cell_type": "code",
   "execution_count": 40,
   "metadata": {},
   "outputs": [
    {
     "data": {
      "text/plain": [
       "['KA16IL8551',\n",
       " 'KA44QF8517',\n",
       " 'KA71EW8814',\n",
       " 'KA96IK5990',\n",
       " 'KA86EG4544',\n",
       " 'KA92NJ4750',\n",
       " 'KA79BV1734',\n",
       " 'KA55SF2954',\n",
       " 'KA56IC4562',\n",
       " 'KA78TG8494',\n",
       " 'KA86SK2476',\n",
       " 'KA46AL6386',\n",
       " 'KA56ED1351',\n",
       " 'KA95GZ4341',\n",
       " 'KA98NZ3727']"
      ]
     },
     "execution_count": 40,
     "metadata": {},
     "output_type": "execute_result"
    }
   ],
   "source": [
    "numberplate()"
   ]
  },
  {
   "cell_type": "code",
   "execution_count": 41,
   "metadata": {},
   "outputs": [
    {
     "data": {
      "text/plain": [
       "['KA40AF7',\n",
       " 'KA33MF4',\n",
       " 'KA95XS6',\n",
       " 'KA81XW5',\n",
       " 'KA71JV4',\n",
       " 'KA24QY6',\n",
       " 'KA28FU4',\n",
       " 'KA91AW4',\n",
       " 'KA76LB6',\n",
       " 'KA92EC6',\n",
       " 'KA11RT4',\n",
       " 'KA91HR6',\n",
       " 'KA57VR5',\n",
       " 'KA99JG4',\n",
       " 'KA44WB4']"
      ]
     },
     "execution_count": 41,
     "metadata": {},
     "output_type": "execute_result"
    }
   ],
   "source": [
    "numberplate_v1(4,7)"
   ]
  },
  {
   "cell_type": "code",
   "execution_count": null,
   "metadata": {},
   "outputs": [],
   "source": []
  }
 ],
 "metadata": {
  "kernelspec": {
   "display_name": "Python 3",
   "language": "python",
   "name": "python3"
  },
  "language_info": {
   "codemirror_mode": {
    "name": "ipython",
    "version": 3
   },
   "file_extension": ".py",
   "mimetype": "text/x-python",
   "name": "python",
   "nbconvert_exporter": "python",
   "pygments_lexer": "ipython3",
   "version": "3.7.0"
  }
 },
 "nbformat": 4,
 "nbformat_minor": 2
}
